{
 "cells": [
  {
   "cell_type": "markdown",
   "metadata": {},
   "source": [
    "# Data Cleaning"
   ]
  },
  {
   "cell_type": "code",
   "execution_count": 2,
   "metadata": {
    "collapsed": true
   },
   "outputs": [],
   "source": [
    "import pandas as pd\n",
    "import numpy as np"
   ]
  },
  {
   "cell_type": "code",
   "execution_count": 3,
   "metadata": {
    "collapsed": true
   },
   "outputs": [],
   "source": [
    "def read_data(xls_path):\n",
    "    xls = pd.ExcelFile(xls_path)\n",
    "    if (xls_path == \"../Ga Tech/GA Tech Data Final.xlsx\"):\n",
    "        recipe_ingredients = pd.read_excel(xls, 'Ingredients', index_col=None, header=None)\n",
    "        recipe_type = pd.read_excel(xls,\"Recipe Type\", index_col=None, header=None)\n",
    "        occasion = pd.read_excel(xls,\"Occasion\", index_col=None, header=None)\n",
    "        course = pd.read_excel(xls,\"Course\", index_col=None, header=None)\n",
    "        diet = pd.read_excel(xls, \"Diet\", index_col=None, header=None, parse_cols=[0,1,3])\n",
    "        ethnicity = pd.read_excel(xls, \"Ethnicity\", index_col=None, header=None)\n",
    "    else:\n",
    "        recipe_ingredients = pd.read_excel(xls, 'Ingredients', index_col=None, header=None, parse_cols=[0,1,2])\n",
    "        recipe_type = pd.read_excel(xls,\"Recipe Type\", index_col=None, header=None, parse_cols=[0,1,2])\n",
    "        occasion = pd.read_excel(xls,\"Occasion\", index_col=None, header=None)\n",
    "        course = pd.read_excel(xls,\"Course\", index_col=None, header=None, parse_cols=[0,1,2])\n",
    "        diet = pd.read_excel(xls, \"Diet\", index_col=None, header=None, parse_cols=[0,1,2])\n",
    "        ethnicity = pd.read_excel(xls, \"Ethnicity\", index_col=None, header=None, parse_cols=[0,1,2])\n",
    "    recipe_ingredients.columns = [\"id\",\"recipe_name\",\"ingredients\"]\n",
    "    recipe_type.columns = [\"id\",\"recipe_name\",\"recipe_type\"]\n",
    "    occasion.columns = [\"id\",\"recipe_name\",\"occasion\"]\n",
    "    course.columns = [\"id\",\"recipe_name\",\"course\"]\n",
    "    diet.columns = [\"id\",\"recipe_name\",\"diet\"]\n",
    "    ethnicity.columns = [\"id\",\"recipe_name\",\"ethnicity\"]\n",
    "    return recipe_ingredients, recipe_type, occasion, course, diet, ethnicity\n",
    "\n",
    "def row_concat(df1, df2):\n",
    "    return pd.concat([df1,df2], axis=0)"
   ]
  },
  {
   "cell_type": "code",
   "execution_count": 4,
   "metadata": {},
   "outputs": [],
   "source": [
    "recipe_ingredients_1, recipe_type_1, occasion_1, course_1, diet_1, ethnicity_1 = read_data(\"GA Tech Data Final.xlsx\")\n",
    "recipe_ingredients_2, recipe_type_2, occasion_2, course_2, diet_2, ethnicity_2 = read_data(\"GA Tech Data Final 2.xlsx\")"
   ]
  },
  {
   "cell_type": "code",
   "execution_count": 5,
   "metadata": {
    "collapsed": true
   },
   "outputs": [],
   "source": [
    "recipe_ingredients = row_concat(recipe_ingredients_1, recipe_ingredients_2)\n",
    "recipe_type = row_concat(recipe_type_1, recipe_type_2)\n",
    "occasion = row_concat(occasion_1, occasion_2)\n",
    "course = row_concat(course_1, course_2)\n",
    "diet = row_concat(diet_1, diet_2)\n",
    "ethnicity = row_concat(ethnicity_1, ethnicity_2)"
   ]
  },
  {
   "cell_type": "code",
   "execution_count": 6,
   "metadata": {},
   "outputs": [
    {
     "name": "stdout",
     "output_type": "stream",
     "text": [
      "       id                                        recipe_name\n",
      "0  508083                                Tuscan potato chips\n",
      "1  508095                           Stuffed zucchini flowers\n",
      "2  508101                                  Fried little fish\n",
      "3  508106                                     Peach fritters\n",
      "4  508120  Goat cheese tart with caramelized onions and g...\n"
     ]
    }
   ],
   "source": [
    "recipe_ingredients.loc[recipe_ingredients.ingredients.isnull(),\"ingredients\"] = [\"cheddar cheese\",\"smoked cheddar cheese\",\"croissants\",\"cream\",\"Vegemite\"]\n",
    "recipe_type.loc[recipe_type.recipe_type.isnull(),\"recipe_type\"] = \"Sandwiches & burgers\"\n",
    "course.loc[course.course.isnull(),\"recipe_type\"] = \"Breakfast / brunch\"\n",
    "diet.loc[diet.diet.isnull(), \"diet\"] = \"Vegetarian\"\n",
    "ethnicity.loc[ethnicity.ethnicity.isnull(), \"ethnicity\"] = \"French\"\n",
    "recipe_index = recipe_ingredients.loc[:,[\"id\",\"recipe_name\"]]\n",
    "recipe_index.drop_duplicates(inplace=True)\n",
    "recipe_index.reset_index(inplace=True)\n",
    "recipe_index.drop(['index'],axis=1,inplace=True)\n",
    "print recipe_index.head()"
   ]
  },
  {
   "cell_type": "code",
   "execution_count": null,
   "metadata": {},
   "outputs": [],
   "source": [
    "# diet.diet.unique()\n",
    "# recipe_type.recipe_type.unique()\n",
    "# occasion.occasion.unique()\n",
    "# course.course.unique()\n",
    "# ethnicity.ethnicity.unique()"
   ]
  },
  {
   "cell_type": "code",
   "execution_count": 7,
   "metadata": {},
   "outputs": [],
   "source": [
    "#drop recipe name column, which is unnecessary in db\n",
    "diet.drop(\"recipe_name\", axis=1, inplace=True)\n",
    "recipe_type.drop(\"recipe_name\", axis=1, inplace=True)\n",
    "occasion.drop(\"recipe_name\", axis=1, inplace=True)\n",
    "course.drop(\"recipe_name\", axis=1, inplace=True)\n",
    "ethnicity.drop(\"recipe_name\", axis=1, inplace=True)\n",
    "recipe_ingredients.drop(\"recipe_name\", axis=1, inplace=True)"
   ]
  },
  {
   "cell_type": "code",
   "execution_count": null,
   "metadata": {
    "collapsed": true
   },
   "outputs": [],
   "source": [
    "# turn recipe-tag format into one-row-per-recipe-with-column-for-each-feature format\n",
    "# get unique values for each feature and transform\n",
    "diet_dummies = pd.get_dummies(diet,columns=[\"diet\"]).groupby([\"id\"]).sum().reset_index()\n",
    "recipe_type_dummies = pd.get_dummies(recipe_type, columns=[\"recipe_type\"]).groupby([\"id\"]).sum().reset_index()\n",
    "course_dummies = pd.get_dummies(course, columns=[\"course\"]).groupby([\"id\"]).sum().reset_index()\n",
    "ethnicity_dummies = pd.get_dummies(ethnicity, columns=['ethnicity']).groupby([\"id\"]).sum().reset_index()\n",
    "occasion_dummies = pd.get_dummies(occasion, columns=['occasion']).groupby([\"id\"]).sum().reset_index()"
   ]
  },
  {
   "cell_type": "code",
   "execution_count": 8,
   "metadata": {},
   "outputs": [],
   "source": [
    "#generate unique ingredients table/ids\n",
    "unique_ingredients = {value:key for (key, value) in enumerate(recipe_ingredients.ingredients.unique())}\n",
    "recipe_ingredients[\"ingredient_id\"] = recipe_ingredients.ingredients\\\n",
    "    .apply(lambda x: unique_ingredients[x])\n",
    "ingredients = pd.DataFrame([(value, key) for key, value in unique_ingredients.iteritems()],\\\n",
    "                          columns=[\"id\", \"ingredient\"])\n",
    "recipe_ingredients.drop(\"ingredients\", axis=1, inplace=True)"
   ]
  },
  {
   "cell_type": "markdown",
   "metadata": {},
   "source": [
    "# Database Connection"
   ]
  },
  {
   "cell_type": "code",
   "execution_count": 9,
   "metadata": {},
   "outputs": [],
   "source": [
    "from flask_sqlalchemy import SQLAlchemy\n",
    "from sqlalchemy import create_engine \n",
    "import sqlite3"
   ]
  },
  {
   "cell_type": "code",
   "execution_count": 10,
   "metadata": {
    "collapsed": true
   },
   "outputs": [],
   "source": [
    "engine = create_engine('sqlite:///chefs.db')"
   ]
  },
  {
   "cell_type": "code",
   "execution_count": 24,
   "metadata": {
    "collapsed": true
   },
   "outputs": [],
   "source": [
    "def conn_sqlite(df, name=None, con=None, if_exists='append'):\n",
    "\n",
    "    if if_exists=='replace' and table_exists(name, con):    \n",
    "        cur = con.cursor()   \n",
    "        cur.execute(\"drop table \"+name)\n",
    "        cur.close()    \n",
    "        \n",
    "    if if_exists in ('fail','replace') or ( if_exists=='append' and table_exists(name, con)==False ):\n",
    "        #create table\n",
    "        schema = get_schema(df, name)\n",
    "        cur = con.cursor()\n",
    "        print schema\n",
    "        cur.execute(schema)\n",
    "        cur.close()\n",
    "        #print 'created table' \n",
    "\n",
    "    cur = con.cursor()\n",
    "    #bulk insert   \n",
    "    wildcards = ','.join(['?'] * len(df.columns))\n",
    "    insert_sql = 'INSERT OR IGNORE INTO %s VALUES (%s)' % (name, wildcards)\n",
    "    print 'insert_sql', insert_sql\n",
    "    data = [tuple(x) for x in df.values]\n",
    "    print 'data', data[0:5]\n",
    "    cur.executemany(insert_sql, data)  \n",
    "      \n",
    "    con.commit()\n",
    "    cur.close()\n",
    "    return\n",
    "\n",
    "def table_exists(name=None, con=None):\n",
    "    sql=\"SELECT name FROM sqlite_master WHERE type='table' AND name='MYTABLE';\".replace('MYTABLE', name)    \n",
    "    df = read_db(sql, con)\n",
    "    #print sql, df\n",
    "    print 'table_exists?', len(df)\n",
    "    exists = True if len(df)>0 else False\n",
    "    return exists\n",
    "\n",
    "def read_db(sql, con):\n",
    "    return pd.io.sql.read_sql_query(sql, con)\n",
    "\n",
    "\n",
    "\n",
    "def get_schema(df, name):\n",
    "    types = {'INT':'NUMBER',  'FLOAT':'NUMBER', 'VARCHAR':'VARCHAR2'}\n",
    "    column_types = []\n",
    "    dtypes = df.dtypes\n",
    "    for i,k in enumerate(dtypes.index):\n",
    "        dt = dtypes[k]\n",
    "        if issubclass(dt.type, (np.integer, np.bool_)):\n",
    "            sqltype = types['INT']\n",
    "        elif issubclass(dt.type, np.floating):\n",
    "            sqltype = types['FLOAT']\n",
    "        else:\n",
    "            sampl = df[ df.columns[i] ][0]\n",
    "            sqltype = types['VARCHAR']\n",
    "        colname =  k.replace('-','_').strip()  \n",
    "        colname = colname.replace(' ','_').strip()\n",
    "        column_types.append((colname, sqltype))\n",
    "    columns = ',\\n  '.join('%s %s' % x for x in column_types)\n",
    "    template_create = \"\"\"CREATE TABLE %(name)s (%(columns)s\"\"\"    \n",
    "    #print 'COLUMNS:\\n', columns\n",
    "    create = template_create % {'name' : name, 'columns' : columns}\n",
    "    \n",
    "    #hardcode primary/foreign key references per table\n",
    "    if name == \"recipe_index\":\n",
    "        create += ',\\n  PRIMARY KEY(id)'\n",
    "    elif name == \"diet\":\n",
    "        create += ',\\n  FOREIGN KEY (id) REFERENCES recipe_index (id)'\n",
    "    elif name == \"recipeType\":\n",
    "        create += ',\\n  FOREIGN KEY (id) REFERENCES recipe_index (id)'\n",
    "    elif name == \"course\":\n",
    "        create += ',\\n  FOREIGN KEY (id) REFERENCES recipe_index (id)'\n",
    "    elif name == \"ethnicity\":\n",
    "        create += ',\\n  FOREIGN KEY (id) REFERENCES recipe_index (id)'\n",
    "    elif name == \"occasion\":\n",
    "        create += ',\\n  FOREIGN KEY (id) REFERENCES recipe_index (id)'\n",
    "    elif name == \"recipe_ingredients\":\n",
    "        create += ',\\n  FOREIGN KEY (id) REFERENCES recipe_index (id)'\n",
    "        create += ',\\n  FOREIGN KEY (ingredient_id) REFERENCES ingredients (id)'\n",
    "    elif name == \"ingredients\":\n",
    "        create += ',\\n  PRIMARY KEY(id)'\n",
    "    create += ');'\n",
    "    return create"
   ]
  },
  {
   "cell_type": "code",
   "execution_count": 12,
   "metadata": {
    "collapsed": true
   },
   "outputs": [],
   "source": [
    "# build sql engine and create connection\n",
    "con = engine.raw_connection()"
   ]
  },
  {
   "cell_type": "code",
   "execution_count": 25,
   "metadata": {},
   "outputs": [
    {
     "name": "stdout",
     "output_type": "stream",
     "text": [
      "table_exists? 1\n",
      "CREATE TABLE recipe_index (id NUMBER,\n",
      "  recipe_name VARCHAR2,\n",
      "  PRIMARY KEY(id));\n",
      "insert_sql INSERT OR IGNORE INTO recipe_index VALUES (?,?)\n",
      "data [(508083, u'Tuscan potato chips'), (508095, u'Stuffed zucchini flowers'), (508101, u'Fried little fish'), (508106, u'Peach fritters'), (508120, u'Goat cheese tart with caramelized onions and green olives')]\n"
     ]
    }
   ],
   "source": [
    "#recipe table\n",
    "conn_sqlite(recipe_index,'recipe_index', con, \"replace\")"
   ]
  },
  {
   "cell_type": "code",
   "execution_count": 26,
   "metadata": {},
   "outputs": [
    {
     "name": "stdout",
     "output_type": "stream",
     "text": [
      "table_exists? 1\n",
      "CREATE TABLE diet (id NUMBER,\n",
      "  diet VARCHAR2,\n",
      "  FOREIGN KEY (id) REFERENCES recipe_index (id));\n",
      "insert_sql INSERT OR IGNORE INTO diet VALUES (?,?)\n",
      "data [(508083, 'Vegetarian'), (508095, 'Vegetarian'), (508120, 'Vegetarian'), (508132, 'Vegetarian'), (508132, 'Vegetarian')]\n"
     ]
    }
   ],
   "source": [
    "#diet table\n",
    "conn_sqlite(diet,'diet',con,\"replace\")"
   ]
  },
  {
   "cell_type": "code",
   "execution_count": 27,
   "metadata": {},
   "outputs": [
    {
     "name": "stdout",
     "output_type": "stream",
     "text": [
      "table_exists? 1\n",
      "CREATE TABLE recipeType (id VARCHAR2,\n",
      "  recipe_type VARCHAR2,\n",
      "  FOREIGN KEY (id) REFERENCES recipe_index (id));\n",
      "insert_sql INSERT OR IGNORE INTO recipeType VALUES (?,?)\n",
      "data [(u'No', u'Recipe Type'), (1315553, u'Sandwiches & burgers'), (1304053, u'Sauces, general'), (1304889, u'Dips, spreads & salsas'), (1304874, u'Baked & steamed desserts')]\n"
     ]
    }
   ],
   "source": [
    "#recipe type table\n",
    "conn_sqlite(recipe_type,'recipeType',con,\"replace\")"
   ]
  },
  {
   "cell_type": "code",
   "execution_count": 28,
   "metadata": {},
   "outputs": [
    {
     "name": "stdout",
     "output_type": "stream",
     "text": [
      "table_exists? 1\n",
      "CREATE TABLE course (id NUMBER,\n",
      "  course VARCHAR2,\n",
      "  recipe_type VARCHAR2,\n",
      "  FOREIGN KEY (id) REFERENCES recipe_index (id));\n",
      "insert_sql INSERT OR IGNORE INTO course VALUES (?,?,?)\n",
      "data [(1274385, u'Appetizers / starters', nan), (1259764, u'Main course', nan), (1372473, u'Appetizers / starters', nan), (1372473, u'Small plates - tapas, meze', nan), (1319144, u'Appetizers / starters', nan)]\n"
     ]
    }
   ],
   "source": [
    "#course table\n",
    "conn_sqlite(course,'course',con,\"replace\")"
   ]
  },
  {
   "cell_type": "code",
   "execution_count": 29,
   "metadata": {},
   "outputs": [
    {
     "name": "stdout",
     "output_type": "stream",
     "text": [
      "table_exists? 1\n",
      "CREATE TABLE ethnicity (id NUMBER,\n",
      "  ethnicity VARCHAR2,\n",
      "  FOREIGN KEY (id) REFERENCES recipe_index (id));\n",
      "insert_sql INSERT OR IGNORE INTO ethnicity VALUES (?,?)\n",
      "data [(508083, u'Italian'), (508095, u'Italian'), (508133, u'French'), (508143, u'German'), (508143, u'Austrian')]\n"
     ]
    }
   ],
   "source": [
    "#ethnicity table\n",
    "conn_sqlite(ethnicity,'ethnicity',con,\"replace\")"
   ]
  },
  {
   "cell_type": "code",
   "execution_count": 30,
   "metadata": {},
   "outputs": [
    {
     "name": "stdout",
     "output_type": "stream",
     "text": [
      "table_exists? 1\n",
      "CREATE TABLE occasion (id NUMBER,\n",
      "  occasion VARCHAR2,\n",
      "  FOREIGN KEY (id) REFERENCES recipe_index (id));\n",
      "insert_sql INSERT OR IGNORE INTO occasion VALUES (?,?)\n",
      "data [(508333, u'Fall / autumn'), (508336, u'Summer'), (508611, u'Spring'), (508623, u'Cooking ahead'), (661952, u'Dinner parties/entertaining')]\n"
     ]
    }
   ],
   "source": [
    "#occasion table\n",
    "conn_sqlite(occasion,'occasion',con,\"replace\")"
   ]
  },
  {
   "cell_type": "code",
   "execution_count": 31,
   "metadata": {},
   "outputs": [
    {
     "name": "stdout",
     "output_type": "stream",
     "text": [
      "table_exists? 1\n",
      "CREATE TABLE recipe_ingredients (id NUMBER,\n",
      "  ingredient_id NUMBER,\n",
      "  FOREIGN KEY (id) REFERENCES recipe_index (id),\n",
      "  FOREIGN KEY (ingredient_id) REFERENCES ingredients (id));\n",
      "insert_sql INSERT OR IGNORE INTO recipe_ingredients VALUES (?,?)\n",
      "data [(508083, 0), (508083, 1), (508083, 2), (508095, 3), (508095, 4)]\n"
     ]
    }
   ],
   "source": [
    "#recipe_ingredients junction table\n",
    "conn_sqlite(recipe_ingredients,'recipe_ingredients',con,\"replace\")"
   ]
  },
  {
   "cell_type": "code",
   "execution_count": 32,
   "metadata": {},
   "outputs": [
    {
     "name": "stdout",
     "output_type": "stream",
     "text": [
      "table_exists? 1\n",
      "CREATE TABLE ingredients (id NUMBER,\n",
      "  ingredient VARCHAR2,\n",
      "  PRIMARY KEY(id));\n",
      "insert_sql INSERT OR IGNORE INTO ingredients VALUES (?,?)\n",
      "data [(8571, u'coarse cereal'), (8234, u'butter flavoring'), (8084, u'Butterfinger candy bars'), (4724, u'bucatini pasta'), (3763, u'provolone piccante cheese')]\n"
     ]
    }
   ],
   "source": [
    "#ingredients table\n",
    "conn_sqlite(ingredients,'ingredients',con,\"replace\")"
   ]
  },
  {
   "cell_type": "code",
   "execution_count": 36,
   "metadata": {},
   "outputs": [
    {
     "data": {
      "text/html": [
       "<div>\n",
       "<table border=\"1\" class=\"dataframe\">\n",
       "  <thead>\n",
       "    <tr style=\"text-align: right;\">\n",
       "      <th></th>\n",
       "      <th>id</th>\n",
       "      <th>ingredient</th>\n",
       "    </tr>\n",
       "  </thead>\n",
       "  <tbody>\n",
       "    <tr>\n",
       "      <th>0</th>\n",
       "      <td>8571</td>\n",
       "      <td>coarse cereal</td>\n",
       "    </tr>\n",
       "    <tr>\n",
       "      <th>1</th>\n",
       "      <td>8234</td>\n",
       "      <td>butter flavoring</td>\n",
       "    </tr>\n",
       "    <tr>\n",
       "      <th>2</th>\n",
       "      <td>8084</td>\n",
       "      <td>Butterfinger candy bars</td>\n",
       "    </tr>\n",
       "    <tr>\n",
       "      <th>3</th>\n",
       "      <td>4724</td>\n",
       "      <td>bucatini pasta</td>\n",
       "    </tr>\n",
       "    <tr>\n",
       "      <th>4</th>\n",
       "      <td>3763</td>\n",
       "      <td>provolone piccante cheese</td>\n",
       "    </tr>\n",
       "    <tr>\n",
       "      <th>5</th>\n",
       "      <td>12669</td>\n",
       "      <td>wild hibiscus flowers in syrup</td>\n",
       "    </tr>\n",
       "    <tr>\n",
       "      <th>6</th>\n",
       "      <td>10202</td>\n",
       "      <td>Bacardi Superior rum</td>\n",
       "    </tr>\n",
       "    <tr>\n",
       "      <th>7</th>\n",
       "      <td>9453</td>\n",
       "      <td>beef middle casings</td>\n",
       "    </tr>\n",
       "    <tr>\n",
       "      <th>8</th>\n",
       "      <td>7805</td>\n",
       "      <td>fermented beet juice</td>\n",
       "    </tr>\n",
       "    <tr>\n",
       "      <th>9</th>\n",
       "      <td>5661</td>\n",
       "      <td>stick canela</td>\n",
       "    </tr>\n",
       "    <tr>\n",
       "      <th>10</th>\n",
       "      <td>14285</td>\n",
       "      <td>whole piglet</td>\n",
       "    </tr>\n",
       "    <tr>\n",
       "      <th>11</th>\n",
       "      <td>6748</td>\n",
       "      <td>vegan yeast extract</td>\n",
       "    </tr>\n",
       "    <tr>\n",
       "      <th>12</th>\n",
       "      <td>14497</td>\n",
       "      <td>pomegranate preserves</td>\n",
       "    </tr>\n",
       "    <tr>\n",
       "      <th>13</th>\n",
       "      <td>2262</td>\n",
       "      <td>water kefir grains</td>\n",
       "    </tr>\n",
       "    <tr>\n",
       "      <th>14</th>\n",
       "      <td>624</td>\n",
       "      <td>Old Bay seasoning</td>\n",
       "    </tr>\n",
       "    <tr>\n",
       "      <th>15</th>\n",
       "      <td>1540</td>\n",
       "      <td>chickpea sprouts</td>\n",
       "    </tr>\n",
       "    <tr>\n",
       "      <th>16</th>\n",
       "      <td>7035</td>\n",
       "      <td>milk chocolate with caramel</td>\n",
       "    </tr>\n",
       "    <tr>\n",
       "      <th>17</th>\n",
       "      <td>5473</td>\n",
       "      <td>Thai shrimp paste</td>\n",
       "    </tr>\n",
       "    <tr>\n",
       "      <th>18</th>\n",
       "      <td>12015</td>\n",
       "      <td>tomato and herb pasta sauce</td>\n",
       "    </tr>\n",
       "    <tr>\n",
       "      <th>19</th>\n",
       "      <td>1868</td>\n",
       "      <td>white fish of your choice</td>\n",
       "    </tr>\n",
       "    <tr>\n",
       "      <th>20</th>\n",
       "      <td>7384</td>\n",
       "      <td>juniper balsamic vinegar</td>\n",
       "    </tr>\n",
       "    <tr>\n",
       "      <th>21</th>\n",
       "      <td>8786</td>\n",
       "      <td>chile-flavored chocolate</td>\n",
       "    </tr>\n",
       "    <tr>\n",
       "      <th>22</th>\n",
       "      <td>9921</td>\n",
       "      <td>fermented snakehead fish</td>\n",
       "    </tr>\n",
       "    <tr>\n",
       "      <th>23</th>\n",
       "      <td>7387</td>\n",
       "      <td>jamón Ibérico de Bellota</td>\n",
       "    </tr>\n",
       "    <tr>\n",
       "      <th>24</th>\n",
       "      <td>13290</td>\n",
       "      <td>Calabrian sausages</td>\n",
       "    </tr>\n",
       "    <tr>\n",
       "      <th>25</th>\n",
       "      <td>11116</td>\n",
       "      <td>spigarello broccoli</td>\n",
       "    </tr>\n",
       "    <tr>\n",
       "      <th>26</th>\n",
       "      <td>12241</td>\n",
       "      <td>Mackmyra Brukswhisky</td>\n",
       "    </tr>\n",
       "    <tr>\n",
       "      <th>27</th>\n",
       "      <td>7788</td>\n",
       "      <td>round fish</td>\n",
       "    </tr>\n",
       "    <tr>\n",
       "      <th>28</th>\n",
       "      <td>12078</td>\n",
       "      <td>pizza bread</td>\n",
       "    </tr>\n",
       "    <tr>\n",
       "      <th>29</th>\n",
       "      <td>2737</td>\n",
       "      <td>side of salmon</td>\n",
       "    </tr>\n",
       "    <tr>\n",
       "      <th>30</th>\n",
       "      <td>12436</td>\n",
       "      <td>snakeroot</td>\n",
       "    </tr>\n",
       "    <tr>\n",
       "      <th>31</th>\n",
       "      <td>10911</td>\n",
       "      <td>pearl perch</td>\n",
       "    </tr>\n",
       "    <tr>\n",
       "      <th>32</th>\n",
       "      <td>3899</td>\n",
       "      <td>bottled Morello cherries</td>\n",
       "    </tr>\n",
       "    <tr>\n",
       "      <th>33</th>\n",
       "      <td>3155</td>\n",
       "      <td>baby basil</td>\n",
       "    </tr>\n",
       "    <tr>\n",
       "      <th>34</th>\n",
       "      <td>13493</td>\n",
       "      <td>Aragón olives</td>\n",
       "    </tr>\n",
       "    <tr>\n",
       "      <th>35</th>\n",
       "      <td>10309</td>\n",
       "      <td>frozen puff pastry rounds</td>\n",
       "    </tr>\n",
       "    <tr>\n",
       "      <th>36</th>\n",
       "      <td>6013</td>\n",
       "      <td>duck meat</td>\n",
       "    </tr>\n",
       "    <tr>\n",
       "      <th>37</th>\n",
       "      <td>4767</td>\n",
       "      <td>mung bean vermicelli noodles</td>\n",
       "    </tr>\n",
       "    <tr>\n",
       "      <th>38</th>\n",
       "      <td>804</td>\n",
       "      <td>condensed beef broth</td>\n",
       "    </tr>\n",
       "    <tr>\n",
       "      <th>39</th>\n",
       "      <td>165</td>\n",
       "      <td>figs</td>\n",
       "    </tr>\n",
       "  </tbody>\n",
       "</table>\n",
       "</div>"
      ],
      "text/plain": [
       "       id                      ingredient\n",
       "0    8571                   coarse cereal\n",
       "1    8234                butter flavoring\n",
       "2    8084         Butterfinger candy bars\n",
       "3    4724                  bucatini pasta\n",
       "4    3763       provolone piccante cheese\n",
       "5   12669  wild hibiscus flowers in syrup\n",
       "6   10202            Bacardi Superior rum\n",
       "7    9453             beef middle casings\n",
       "8    7805            fermented beet juice\n",
       "9    5661                    stick canela\n",
       "10  14285                    whole piglet\n",
       "11   6748             vegan yeast extract\n",
       "12  14497           pomegranate preserves\n",
       "13   2262              water kefir grains\n",
       "14    624               Old Bay seasoning\n",
       "15   1540                chickpea sprouts\n",
       "16   7035     milk chocolate with caramel\n",
       "17   5473               Thai shrimp paste\n",
       "18  12015     tomato and herb pasta sauce\n",
       "19   1868       white fish of your choice\n",
       "20   7384        juniper balsamic vinegar\n",
       "21   8786        chile-flavored chocolate\n",
       "22   9921        fermented snakehead fish\n",
       "23   7387        jamón Ibérico de Bellota\n",
       "24  13290              Calabrian sausages\n",
       "25  11116             spigarello broccoli\n",
       "26  12241            Mackmyra Brukswhisky\n",
       "27   7788                      round fish\n",
       "28  12078                     pizza bread\n",
       "29   2737                  side of salmon\n",
       "30  12436                       snakeroot\n",
       "31  10911                     pearl perch\n",
       "32   3899        bottled Morello cherries\n",
       "33   3155                      baby basil\n",
       "34  13493                   Aragón olives\n",
       "35  10309       frozen puff pastry rounds\n",
       "36   6013                       duck meat\n",
       "37   4767    mung bean vermicelli noodles\n",
       "38    804            condensed beef broth\n",
       "39    165                            figs"
      ]
     },
     "execution_count": 36,
     "metadata": {},
     "output_type": "execute_result"
    }
   ],
   "source": [
    "ingredients.head(40)"
   ]
  },
  {
   "cell_type": "code",
   "execution_count": null,
   "metadata": {
    "collapsed": true
   },
   "outputs": [],
   "source": []
  }
 ],
 "metadata": {
  "kernelspec": {
   "display_name": "Python 2",
   "language": "python",
   "name": "python2"
  }
 },
 "nbformat": 4,
 "nbformat_minor": 2
}
